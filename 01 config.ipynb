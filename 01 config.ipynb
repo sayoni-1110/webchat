{
 "cells": [
  {
   "cell_type": "code",
   "execution_count": 0,
   "metadata": {
    "application/vnd.databricks.v1+cell": {
     "cellMetadata": {},
     "inputWidgets": {},
     "nuid": "13bff097-f78a-4d6e-ba83-64f46d40b2da",
     "showTitle": false,
     "tableResultSettingsMap": {},
     "title": ""
    }
   },
   "outputs": [],
   "source": [
    "class Config():\n",
    "  def __init__(self):\n",
    "    self.dbfs_path = '/FileStore/tables/'\n",
    "    self.dbfs_path2 = '/FileStore/tables/'\n",
    "    self.dbfs_path3 = '/FileStore/tables/'\n",
    "    self.dbfs_path4 = '/FileStore/tables/'"
   ]
  }
 ],
 "metadata": {
  "application/vnd.databricks.v1+notebook": {
   "computePreferences": null,
   "dashboards": [],
   "environmentMetadata": {
    "base_environment": "",
    "environment_version": "4"
   },
   "inputWidgetPreferences": null,
   "language": "python",
   "notebookMetadata": {
    "pythonIndentUnit": 4
   },
   "notebookName": "01 config",
   "widgets": {}
  },
  "language_info": {
   "name": "python"
  }
 },
 "nbformat": 4,
 "nbformat_minor": 0
}
